{
  "cells": [
    {
      "cell_type": "markdown",
      "metadata": {
        "id": "view-in-github",
        "colab_type": "text"
      },
      "source": [
        "<a href=\"https://colab.research.google.com/github/Soumya120/ML/blob/main/Popularity_of_music_artist.ipynb\" target=\"_parent\"><img src=\"https://colab.research.google.com/assets/colab-badge.svg\" alt=\"Open In Colab\"/></a>"
      ]
    },
    {
      "cell_type": "code",
      "execution_count": null,
      "metadata": {
        "id": "FvBxrJs6m_XP"
      },
      "outputs": [],
      "source": [
        "import pandas as pd\n",
        "import numpy as np\n",
        "import matplotlib.pyplot as plt\n",
        "import seaborn as sns\n",
        "from sklearn.linear_model import LogisticRegression\n",
        "from sklearn.model_selection import train_test_split"
      ]
    },
    {
      "cell_type": "code",
      "execution_count": null,
      "metadata": {
        "colab": {
          "base_uri": "https://localhost:8080/",
          "height": 320
        },
        "id": "Yr8h4-wVoAqq",
        "outputId": "765e79bf-dc12-4270-edfb-d868c001b7e2"
      },
      "outputs": [
        {
          "name": "stderr",
          "output_type": "stream",
          "text": [
            "C:\\ProgramData\\Anaconda3\\lib\\site-packages\\IPython\\core\\interactiveshell.py:3444: DtypeWarning: Columns (2,4,6) have mixed types.Specify dtype option on import or set low_memory=False.\n",
            "  exec(code_obj, self.user_global_ns, self.user_ns)\n"
          ]
        },
        {
          "data": {
            "text/html": [
              "<div>\n",
              "<style scoped>\n",
              "    .dataframe tbody tr th:only-of-type {\n",
              "        vertical-align: middle;\n",
              "    }\n",
              "\n",
              "    .dataframe tbody tr th {\n",
              "        vertical-align: top;\n",
              "    }\n",
              "\n",
              "    .dataframe thead th {\n",
              "        text-align: right;\n",
              "    }\n",
              "</style>\n",
              "<table border=\"1\" class=\"dataframe\">\n",
              "  <thead>\n",
              "    <tr style=\"text-align: right;\">\n",
              "      <th></th>\n",
              "      <th>mbid</th>\n",
              "      <th>artist_mb</th>\n",
              "      <th>artist_lastfm</th>\n",
              "      <th>country_mb</th>\n",
              "      <th>country_lastfm</th>\n",
              "      <th>tags_mb</th>\n",
              "      <th>tags_lastfm</th>\n",
              "      <th>listeners_lastfm</th>\n",
              "      <th>scrobbles_lastfm</th>\n",
              "      <th>ambiguous_artist</th>\n",
              "    </tr>\n",
              "  </thead>\n",
              "  <tbody>\n",
              "    <tr>\n",
              "      <th>0</th>\n",
              "      <td>cc197bad-dc9c-440d-a5b5-d52ba2e14234</td>\n",
              "      <td>Coldplay</td>\n",
              "      <td>Coldplay</td>\n",
              "      <td>United Kingdom</td>\n",
              "      <td>United Kingdom</td>\n",
              "      <td>rock; pop; alternative rock; british; uk; brit...</td>\n",
              "      <td>rock; alternative; britpop; alternative rock; ...</td>\n",
              "      <td>5381567.0</td>\n",
              "      <td>360111850.0</td>\n",
              "      <td>False</td>\n",
              "    </tr>\n",
              "    <tr>\n",
              "      <th>1</th>\n",
              "      <td>a74b1b7f-71a5-4011-9441-d0b5e4122711</td>\n",
              "      <td>Radiohead</td>\n",
              "      <td>Radiohead</td>\n",
              "      <td>United Kingdom</td>\n",
              "      <td>United Kingdom</td>\n",
              "      <td>rock; electronic; alternative rock; british; g...</td>\n",
              "      <td>alternative; alternative rock; rock; indie; el...</td>\n",
              "      <td>4732528.0</td>\n",
              "      <td>499548797.0</td>\n",
              "      <td>False</td>\n",
              "    </tr>\n",
              "    <tr>\n",
              "      <th>2</th>\n",
              "      <td>8bfac288-ccc5-448d-9573-c33ea2aa5c30</td>\n",
              "      <td>Red Hot Chili Peppers</td>\n",
              "      <td>Red Hot Chili Peppers</td>\n",
              "      <td>United States</td>\n",
              "      <td>United States</td>\n",
              "      <td>rock; alternative rock; 80s; 90s; rap; metal; ...</td>\n",
              "      <td>rock; alternative rock; alternative; Funk Rock...</td>\n",
              "      <td>4620835.0</td>\n",
              "      <td>293784041.0</td>\n",
              "      <td>False</td>\n",
              "    </tr>\n",
              "    <tr>\n",
              "      <th>3</th>\n",
              "      <td>73e5e69d-3554-40d8-8516-00cb38737a1c</td>\n",
              "      <td>Rihanna</td>\n",
              "      <td>Rihanna</td>\n",
              "      <td>United States</td>\n",
              "      <td>Barbados; United States</td>\n",
              "      <td>pop; dance; hip hop; reggae; contemporary r b;...</td>\n",
              "      <td>pop; rnb; female vocalists; dance; Hip-Hop; Ri...</td>\n",
              "      <td>4558193.0</td>\n",
              "      <td>199248986.0</td>\n",
              "      <td>False</td>\n",
              "    </tr>\n",
              "    <tr>\n",
              "      <th>4</th>\n",
              "      <td>b95ce3ff-3d05-4e87-9e01-c97b66af13d4</td>\n",
              "      <td>Eminem</td>\n",
              "      <td>Eminem</td>\n",
              "      <td>United States</td>\n",
              "      <td>United States</td>\n",
              "      <td>turkish; rap; american; hip-hop; hip hop; hiph...</td>\n",
              "      <td>rap; Hip-Hop; Eminem; hip hop; pop; american; ...</td>\n",
              "      <td>4517997.0</td>\n",
              "      <td>199507511.0</td>\n",
              "      <td>False</td>\n",
              "    </tr>\n",
              "  </tbody>\n",
              "</table>\n",
              "</div>"
            ],
            "text/plain": [
              "                                   mbid              artist_mb  \\\n",
              "0  cc197bad-dc9c-440d-a5b5-d52ba2e14234               Coldplay   \n",
              "1  a74b1b7f-71a5-4011-9441-d0b5e4122711              Radiohead   \n",
              "2  8bfac288-ccc5-448d-9573-c33ea2aa5c30  Red Hot Chili Peppers   \n",
              "3  73e5e69d-3554-40d8-8516-00cb38737a1c                Rihanna   \n",
              "4  b95ce3ff-3d05-4e87-9e01-c97b66af13d4                 Eminem   \n",
              "\n",
              "           artist_lastfm      country_mb           country_lastfm  \\\n",
              "0               Coldplay  United Kingdom           United Kingdom   \n",
              "1              Radiohead  United Kingdom           United Kingdom   \n",
              "2  Red Hot Chili Peppers   United States            United States   \n",
              "3                Rihanna   United States  Barbados; United States   \n",
              "4                 Eminem   United States            United States   \n",
              "\n",
              "                                             tags_mb  \\\n",
              "0  rock; pop; alternative rock; british; uk; brit...   \n",
              "1  rock; electronic; alternative rock; british; g...   \n",
              "2  rock; alternative rock; 80s; 90s; rap; metal; ...   \n",
              "3  pop; dance; hip hop; reggae; contemporary r b;...   \n",
              "4  turkish; rap; american; hip-hop; hip hop; hiph...   \n",
              "\n",
              "                                         tags_lastfm  listeners_lastfm  \\\n",
              "0  rock; alternative; britpop; alternative rock; ...         5381567.0   \n",
              "1  alternative; alternative rock; rock; indie; el...         4732528.0   \n",
              "2  rock; alternative rock; alternative; Funk Rock...         4620835.0   \n",
              "3  pop; rnb; female vocalists; dance; Hip-Hop; Ri...         4558193.0   \n",
              "4  rap; Hip-Hop; Eminem; hip hop; pop; american; ...         4517997.0   \n",
              "\n",
              "   scrobbles_lastfm  ambiguous_artist  \n",
              "0       360111850.0             False  \n",
              "1       499548797.0             False  \n",
              "2       293784041.0             False  \n",
              "3       199248986.0             False  \n",
              "4       199507511.0             False  "
            ]
          },
          "execution_count": 3,
          "metadata": {},
          "output_type": "execute_result"
        }
      ],
      "source": [
        "df = pd.read_csv('artists.csv')\n",
        "df.head()"
      ]
    },
    {
      "cell_type": "code",
      "execution_count": null,
      "metadata": {
        "colab": {
          "base_uri": "https://localhost:8080/"
        },
        "id": "TPOXsWZLDuYV",
        "outputId": "2c3ac616-81fe-498f-8467-ee0ba50b80a9"
      },
      "outputs": [
        {
          "data": {
            "text/plain": [
              "mbid                      0\n",
              "artist_mb                 8\n",
              "artist_lastfm        479327\n",
              "country_mb           803715\n",
              "country_lastfm      1254585\n",
              "tags_mb             1346137\n",
              "tags_lastfm         1085008\n",
              "listeners_lastfm     479323\n",
              "scrobbles_lastfm     479323\n",
              "ambiguous_artist          0\n",
              "dtype: int64"
            ]
          },
          "execution_count": 4,
          "metadata": {},
          "output_type": "execute_result"
        }
      ],
      "source": [
        "df.isnull().sum()"
      ]
    },
    {
      "cell_type": "code",
      "execution_count": null,
      "metadata": {
        "id": "HG_kor6VD9p4"
      },
      "outputs": [],
      "source": [
        "df.drop(['country_mb', 'country_lastfm', 'tags_mb', 'tags_lastfm', 'ambiguous_artist'], axis=1, inplace=True)"
      ]
    },
    {
      "cell_type": "code",
      "execution_count": null,
      "metadata": {
        "colab": {
          "base_uri": "https://localhost:8080/",
          "height": 416
        },
        "id": "V2tMnNcxFZsZ",
        "outputId": "30034c84-bb5b-4ff9-80da-aae244f5a304"
      },
      "outputs": [
        {
          "data": {
            "text/html": [
              "<div>\n",
              "<style scoped>\n",
              "    .dataframe tbody tr th:only-of-type {\n",
              "        vertical-align: middle;\n",
              "    }\n",
              "\n",
              "    .dataframe tbody tr th {\n",
              "        vertical-align: top;\n",
              "    }\n",
              "\n",
              "    .dataframe thead th {\n",
              "        text-align: right;\n",
              "    }\n",
              "</style>\n",
              "<table border=\"1\" class=\"dataframe\">\n",
              "  <thead>\n",
              "    <tr style=\"text-align: right;\">\n",
              "      <th></th>\n",
              "      <th>mbid</th>\n",
              "      <th>artist_mb</th>\n",
              "      <th>artist_lastfm</th>\n",
              "      <th>listeners_lastfm</th>\n",
              "      <th>scrobbles_lastfm</th>\n",
              "      <th>popular_or_not</th>\n",
              "    </tr>\n",
              "  </thead>\n",
              "  <tbody>\n",
              "    <tr>\n",
              "      <th>0</th>\n",
              "      <td>cc197bad-dc9c-440d-a5b5-d52ba2e14234</td>\n",
              "      <td>Coldplay</td>\n",
              "      <td>Coldplay</td>\n",
              "      <td>5381567.0</td>\n",
              "      <td>360111850.0</td>\n",
              "      <td>1</td>\n",
              "    </tr>\n",
              "    <tr>\n",
              "      <th>1</th>\n",
              "      <td>a74b1b7f-71a5-4011-9441-d0b5e4122711</td>\n",
              "      <td>Radiohead</td>\n",
              "      <td>Radiohead</td>\n",
              "      <td>4732528.0</td>\n",
              "      <td>499548797.0</td>\n",
              "      <td>1</td>\n",
              "    </tr>\n",
              "    <tr>\n",
              "      <th>2</th>\n",
              "      <td>8bfac288-ccc5-448d-9573-c33ea2aa5c30</td>\n",
              "      <td>Red Hot Chili Peppers</td>\n",
              "      <td>Red Hot Chili Peppers</td>\n",
              "      <td>4620835.0</td>\n",
              "      <td>293784041.0</td>\n",
              "      <td>1</td>\n",
              "    </tr>\n",
              "    <tr>\n",
              "      <th>3</th>\n",
              "      <td>73e5e69d-3554-40d8-8516-00cb38737a1c</td>\n",
              "      <td>Rihanna</td>\n",
              "      <td>Rihanna</td>\n",
              "      <td>4558193.0</td>\n",
              "      <td>199248986.0</td>\n",
              "      <td>1</td>\n",
              "    </tr>\n",
              "    <tr>\n",
              "      <th>4</th>\n",
              "      <td>b95ce3ff-3d05-4e87-9e01-c97b66af13d4</td>\n",
              "      <td>Eminem</td>\n",
              "      <td>Eminem</td>\n",
              "      <td>4517997.0</td>\n",
              "      <td>199507511.0</td>\n",
              "      <td>1</td>\n",
              "    </tr>\n",
              "    <tr>\n",
              "      <th>...</th>\n",
              "      <td>...</td>\n",
              "      <td>...</td>\n",
              "      <td>...</td>\n",
              "      <td>...</td>\n",
              "      <td>...</td>\n",
              "      <td>...</td>\n",
              "    </tr>\n",
              "    <tr>\n",
              "      <th>1466078</th>\n",
              "      <td>1eab523e-98ff-4083-aa34-8922740bc696</td>\n",
              "      <td>정은지</td>\n",
              "      <td>NaN</td>\n",
              "      <td>NaN</td>\n",
              "      <td>NaN</td>\n",
              "      <td>0</td>\n",
              "    </tr>\n",
              "    <tr>\n",
              "      <th>1466079</th>\n",
              "      <td>a18f0527-907e-42b0-8268-504966274581</td>\n",
              "      <td>남태현</td>\n",
              "      <td>NaN</td>\n",
              "      <td>NaN</td>\n",
              "      <td>NaN</td>\n",
              "      <td>0</td>\n",
              "    </tr>\n",
              "    <tr>\n",
              "      <th>1466080</th>\n",
              "      <td>20a57e37-24b5-4301-855b-35076580fb88</td>\n",
              "      <td>헤일로</td>\n",
              "      <td>NaN</td>\n",
              "      <td>NaN</td>\n",
              "      <td>NaN</td>\n",
              "      <td>0</td>\n",
              "    </tr>\n",
              "    <tr>\n",
              "      <th>1466081</th>\n",
              "      <td>83891a4d-1bf4-4abe-a483-5b3d9d614efa</td>\n",
              "      <td>서현진</td>\n",
              "      <td>NaN</td>\n",
              "      <td>NaN</td>\n",
              "      <td>NaN</td>\n",
              "      <td>0</td>\n",
              "    </tr>\n",
              "    <tr>\n",
              "      <th>1466082</th>\n",
              "      <td>3d05dd13-f524-4e80-91aa-24094e8b5928</td>\n",
              "      <td>김희철</td>\n",
              "      <td>NaN</td>\n",
              "      <td>NaN</td>\n",
              "      <td>NaN</td>\n",
              "      <td>0</td>\n",
              "    </tr>\n",
              "  </tbody>\n",
              "</table>\n",
              "<p>1466083 rows × 6 columns</p>\n",
              "</div>"
            ],
            "text/plain": [
              "                                         mbid              artist_mb  \\\n",
              "0        cc197bad-dc9c-440d-a5b5-d52ba2e14234               Coldplay   \n",
              "1        a74b1b7f-71a5-4011-9441-d0b5e4122711              Radiohead   \n",
              "2        8bfac288-ccc5-448d-9573-c33ea2aa5c30  Red Hot Chili Peppers   \n",
              "3        73e5e69d-3554-40d8-8516-00cb38737a1c                Rihanna   \n",
              "4        b95ce3ff-3d05-4e87-9e01-c97b66af13d4                 Eminem   \n",
              "...                                       ...                    ...   \n",
              "1466078  1eab523e-98ff-4083-aa34-8922740bc696                    정은지   \n",
              "1466079  a18f0527-907e-42b0-8268-504966274581                    남태현   \n",
              "1466080  20a57e37-24b5-4301-855b-35076580fb88                    헤일로   \n",
              "1466081  83891a4d-1bf4-4abe-a483-5b3d9d614efa                    서현진   \n",
              "1466082  3d05dd13-f524-4e80-91aa-24094e8b5928                    김희철   \n",
              "\n",
              "                 artist_lastfm  listeners_lastfm  scrobbles_lastfm  \\\n",
              "0                     Coldplay         5381567.0       360111850.0   \n",
              "1                    Radiohead         4732528.0       499548797.0   \n",
              "2        Red Hot Chili Peppers         4620835.0       293784041.0   \n",
              "3                      Rihanna         4558193.0       199248986.0   \n",
              "4                       Eminem         4517997.0       199507511.0   \n",
              "...                        ...               ...               ...   \n",
              "1466078                    NaN               NaN               NaN   \n",
              "1466079                    NaN               NaN               NaN   \n",
              "1466080                    NaN               NaN               NaN   \n",
              "1466081                    NaN               NaN               NaN   \n",
              "1466082                    NaN               NaN               NaN   \n",
              "\n",
              "         popular_or_not  \n",
              "0                     1  \n",
              "1                     1  \n",
              "2                     1  \n",
              "3                     1  \n",
              "4                     1  \n",
              "...                 ...  \n",
              "1466078               0  \n",
              "1466079               0  \n",
              "1466080               0  \n",
              "1466081               0  \n",
              "1466082               0  \n",
              "\n",
              "[1466083 rows x 6 columns]"
            ]
          },
          "execution_count": 6,
          "metadata": {},
          "output_type": "execute_result"
        }
      ],
      "source": [
        "df['popular_or_not'] = df.listeners_lastfm > np.mean(df['listeners_lastfm'])\n",
        "df['popular_or_not'] = df['popular_or_not'].astype(int)\n",
        "df"
      ]
    },
    {
      "cell_type": "code",
      "execution_count": null,
      "metadata": {
        "id": "3RAJow6F1BCv"
      },
      "outputs": [],
      "source": [
        "lg = LogisticRegression(max_iter=1000)"
      ]
    },
    {
      "cell_type": "code",
      "execution_count": null,
      "metadata": {
        "id": "bz6x5Qdv84x5"
      },
      "outputs": [],
      "source": [
        "df = df.replace([np.inf, -np.inf], np.nan)\n",
        "df.dropna(how=\"any\", inplace=True)"
      ]
    },
    {
      "cell_type": "code",
      "execution_count": null,
      "metadata": {
        "id": "sf5SRmsPCFik"
      },
      "outputs": [],
      "source": [
        "x= df.iloc[:, [3,4]].values\n",
        "y= df.iloc[:, [5]]"
      ]
    },
    {
      "cell_type": "code",
      "execution_count": null,
      "metadata": {
        "id": "ilABiTunCFfn"
      },
      "outputs": [],
      "source": [
        "x_train,x_test,y_train,y_test = train_test_split(x,y, test_size=0.3, random_state=0)"
      ]
    },
    {
      "cell_type": "code",
      "execution_count": null,
      "metadata": {
        "colab": {
          "base_uri": "https://localhost:8080/"
        },
        "id": "tLwdYSiu8N_u",
        "outputId": "ded78f60-809e-473f-f0ab-8e4eac3508ab"
      },
      "outputs": [
        {
          "data": {
            "text/plain": [
              "array([[5.38156700e+06, 3.60111850e+08],\n",
              "       [4.73252800e+06, 4.99548797e+08],\n",
              "       [4.62083500e+06, 2.93784041e+08],\n",
              "       ...,\n",
              "       [0.00000000e+00, 0.00000000e+00],\n",
              "       [0.00000000e+00, 0.00000000e+00],\n",
              "       [0.00000000e+00, 0.00000000e+00]])"
            ]
          },
          "execution_count": 11,
          "metadata": {},
          "output_type": "execute_result"
        }
      ],
      "source": [
        "x"
      ]
    },
    {
      "cell_type": "code",
      "execution_count": null,
      "metadata": {
        "colab": {
          "base_uri": "https://localhost:8080/"
        },
        "id": "iUEv4ol1LHHb",
        "outputId": "86cdf73a-5ab5-46ce-afd6-aa8ffa367db8"
      },
      "outputs": [
        {
          "name": "stderr",
          "output_type": "stream",
          "text": [
            "C:\\ProgramData\\Anaconda3\\lib\\site-packages\\sklearn\\utils\\validation.py:63: DataConversionWarning: A column-vector y was passed when a 1d array was expected. Please change the shape of y to (n_samples, ), for example using ravel().\n",
            "  return f(*args, **kwargs)\n"
          ]
        }
      ],
      "source": [
        "k = lg.fit(x,y)"
      ]
    },
    {
      "cell_type": "code",
      "execution_count": null,
      "metadata": {
        "id": "fX5O1pISLHDz"
      },
      "outputs": [],
      "source": [
        "y_pred = lg.predict(x_test)"
      ]
    },
    {
      "cell_type": "code",
      "execution_count": null,
      "metadata": {
        "colab": {
          "base_uri": "https://localhost:8080/"
        },
        "id": "tDbA8oUo-b3Z",
        "outputId": "97144392-0739-4ad3-99b7-4c8dcb12b44e"
      },
      "outputs": [
        {
          "data": {
            "text/plain": [
              "1.0"
            ]
          },
          "execution_count": 14,
          "metadata": {},
          "output_type": "execute_result"
        }
      ],
      "source": [
        "lg.score(x,y)"
      ]
    },
    {
      "cell_type": "code",
      "execution_count": null,
      "metadata": {
        "id": "EH3-_NhO-cQq"
      },
      "outputs": [],
      "source": [
        "y_pred_new = lg.predict([[1594561,84646]])"
      ]
    },
    {
      "cell_type": "code",
      "execution_count": null,
      "metadata": {
        "colab": {
          "base_uri": "https://localhost:8080/"
        },
        "id": "jyGB3y4d-cWD",
        "outputId": "fe1dadb5-d344-46aa-b16b-f1682a5597bd"
      },
      "outputs": [
        {
          "name": "stdout",
          "output_type": "stream",
          "text": [
            "[1]\n"
          ]
        }
      ],
      "source": [
        "print(y_pred_new)"
      ]
    },
    {
      "cell_type": "code",
      "execution_count": null,
      "metadata": {
        "id": "gf5F77s8j0A4"
      },
      "outputs": [],
      "source": [
        "from sklearn.tree import DecisionTreeClassifier"
      ]
    },
    {
      "cell_type": "code",
      "execution_count": null,
      "metadata": {
        "id": "L9E_x180jz97"
      },
      "outputs": [],
      "source": [
        "d= DecisionTreeClassifier()"
      ]
    },
    {
      "cell_type": "code",
      "execution_count": null,
      "metadata": {
        "colab": {
          "base_uri": "https://localhost:8080/"
        },
        "id": "C5KFnNXmjzWC",
        "outputId": "28081575-9c73-4aa6-cfd4-c8a8fc3a6e7d"
      },
      "outputs": [
        {
          "data": {
            "text/plain": [
              "DecisionTreeClassifier()"
            ]
          },
          "execution_count": 19,
          "metadata": {},
          "output_type": "execute_result"
        }
      ],
      "source": [
        "d.fit(x,y)"
      ]
    },
    {
      "cell_type": "code",
      "execution_count": null,
      "metadata": {
        "id": "paWUYmrfjzRt"
      },
      "outputs": [],
      "source": [
        "y_pred1 = d.predict(x_test)"
      ]
    },
    {
      "cell_type": "code",
      "execution_count": null,
      "metadata": {
        "colab": {
          "base_uri": "https://localhost:8080/"
        },
        "id": "2QsXf4lYkLsh",
        "outputId": "b43f160d-79f4-4f3f-a7fc-cd4186715343"
      },
      "outputs": [
        {
          "data": {
            "text/plain": [
              "array([0, 0, 0, ..., 0, 0, 0])"
            ]
          },
          "execution_count": 21,
          "metadata": {},
          "output_type": "execute_result"
        }
      ],
      "source": [
        "y_pred1"
      ]
    },
    {
      "cell_type": "code",
      "execution_count": null,
      "metadata": {
        "colab": {
          "base_uri": "https://localhost:8080/"
        },
        "id": "yrTA1f_ukLl-",
        "outputId": "fa37c5e8-817c-4e89-da0f-7b06856993df"
      },
      "outputs": [
        {
          "data": {
            "text/plain": [
              "1.0"
            ]
          },
          "execution_count": 22,
          "metadata": {},
          "output_type": "execute_result"
        }
      ],
      "source": [
        "d.score(x,y)"
      ]
    },
    {
      "cell_type": "code",
      "execution_count": null,
      "metadata": {
        "id": "PHOX8IEXkprF"
      },
      "outputs": [],
      "source": [
        "from sklearn.ensemble import RandomForestClassifier "
      ]
    },
    {
      "cell_type": "code",
      "execution_count": null,
      "metadata": {
        "id": "DQrqr_B_kpnq"
      },
      "outputs": [],
      "source": [
        "r= RandomForestClassifier(n_estimators=1)"
      ]
    },
    {
      "cell_type": "code",
      "execution_count": null,
      "metadata": {
        "colab": {
          "base_uri": "https://localhost:8080/"
        },
        "id": "cPRReVGOkLgr",
        "outputId": "ac7a46c3-bc05-4e1c-c23b-d2109bd0856e"
      },
      "outputs": [
        {
          "name": "stderr",
          "output_type": "stream",
          "text": [
            "C:\\Users\\ADMIN\\AppData\\Local\\Temp/ipykernel_8136/2591809438.py:1: DataConversionWarning: A column-vector y was passed when a 1d array was expected. Please change the shape of y to (n_samples,), for example using ravel().\n",
            "  r.fit(x,y)\n"
          ]
        },
        {
          "data": {
            "text/plain": [
              "RandomForestClassifier(n_estimators=1)"
            ]
          },
          "execution_count": 25,
          "metadata": {},
          "output_type": "execute_result"
        }
      ],
      "source": [
        "r.fit(x,y)"
      ]
    },
    {
      "cell_type": "code",
      "execution_count": null,
      "metadata": {
        "id": "sRVv5QFCkLdb"
      },
      "outputs": [],
      "source": [
        "y_pred2 = r.predict(x_test)"
      ]
    },
    {
      "cell_type": "code",
      "execution_count": null,
      "metadata": {
        "colab": {
          "base_uri": "https://localhost:8080/"
        },
        "id": "z-4D5BavlL63",
        "outputId": "9a40cc50-9917-4461-90ad-1c07dac5ba12"
      },
      "outputs": [
        {
          "data": {
            "text/plain": [
              "array([0, 0, 0, ..., 0, 0, 0])"
            ]
          },
          "execution_count": 27,
          "metadata": {},
          "output_type": "execute_result"
        }
      ],
      "source": [
        "y_pred2"
      ]
    },
    {
      "cell_type": "code",
      "execution_count": null,
      "metadata": {
        "colab": {
          "base_uri": "https://localhost:8080/"
        },
        "id": "VKJJGXkTlL3r",
        "outputId": "676aaa23-8450-4df3-a8e3-4faca659c8a1"
      },
      "outputs": [
        {
          "data": {
            "text/plain": [
              "0.9999797315032232"
            ]
          },
          "execution_count": 28,
          "metadata": {},
          "output_type": "execute_result"
        }
      ],
      "source": [
        "r.score(x,y)"
      ]
    },
    {
      "cell_type": "code",
      "execution_count": null,
      "metadata": {
        "colab": {
          "base_uri": "https://localhost:8080/"
        },
        "id": "8iQPqUYklLz8",
        "outputId": "7e7b0eb7-0ccc-414c-b2df-a6cbabf7534d"
      },
      "outputs": [
        {
          "data": {
            "text/plain": [
              "1.0"
            ]
          },
          "execution_count": 29,
          "metadata": {},
          "output_type": "execute_result"
        }
      ],
      "source": [
        "lg.score(x,y)"
      ]
    }
  ],
  "metadata": {
    "colab": {
      "collapsed_sections": [],
      "name": "Popularity_of_music_artist.ipynb",
      "provenance": [],
      "include_colab_link": true
    },
    "kernelspec": {
      "display_name": "Python 3 (ipykernel)",
      "language": "python",
      "name": "python3"
    },
    "language_info": {
      "codemirror_mode": {
        "name": "ipython",
        "version": 3
      },
      "file_extension": ".py",
      "mimetype": "text/x-python",
      "name": "python",
      "nbconvert_exporter": "python",
      "pygments_lexer": "ipython3",
      "version": "3.9.7"
    }
  },
  "nbformat": 4,
  "nbformat_minor": 0
}