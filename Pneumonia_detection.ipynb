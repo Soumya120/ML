{
  "cells": [
    {
      "cell_type": "markdown",
      "metadata": {
        "id": "view-in-github",
        "colab_type": "text"
      },
      "source": [
        "<a href=\"https://colab.research.google.com/github/Soumya120/ML/blob/main/Pneumonia_detection.ipynb\" target=\"_parent\"><img src=\"https://colab.research.google.com/assets/colab-badge.svg\" alt=\"Open In Colab\"/></a>"
      ]
    },
    {
      "cell_type": "code",
      "execution_count": null,
      "id": "27f21162",
      "metadata": {
        "id": "27f21162"
      },
      "outputs": [],
      "source": [
        "from tensorflow.keras.preprocessing.image import ImageDataGenerator, load_img\n",
        "from tensorflow.keras.models import Sequential\n",
        "from tensorflow.keras.layers import Conv2D, MaxPooling2D\n",
        "from tensorflow.keras.layers import Dropout, Flatten, Dense\n",
        "import os\n",
        "import numpy as np\n",
        "import pandas as pd"
      ]
    },
    {
      "cell_type": "code",
      "execution_count": null,
      "id": "822e5395",
      "metadata": {
        "id": "822e5395"
      },
      "outputs": [],
      "source": [
        "train = r\"C:\\Users\\ADMIN\\Desktop\\Internship project\\chest_xray/train\"\n",
        "test = r\"C:\\Users\\ADMIN\\Desktop\\Internship project\\chest_xray/test\"\n",
        "val = r\"C:\\Users\\ADMIN\\Desktop\\Internship project\\chest_xray/val\""
      ]
    },
    {
      "cell_type": "code",
      "execution_count": null,
      "id": "53d9a9a1",
      "metadata": {
        "id": "53d9a9a1"
      },
      "outputs": [],
      "source": [
        "batch_size=15\n",
        "image_size=(120,120)"
      ]
    },
    {
      "cell_type": "code",
      "execution_count": null,
      "id": "5c7fb071",
      "metadata": {
        "id": "5c7fb071"
      },
      "outputs": [],
      "source": [
        "train_datagen= ImageDataGenerator(rotation_range=15,\n",
        "                                 width_shift_range=0.2,\n",
        "                                 height_shift_range=0.2,\n",
        "                                 horizontal_flip=True,\n",
        "                                 rescale=1./255) \n",
        "\n",
        "test_datagen = ImageDataGenerator(rescale=1./255)"
      ]
    },
    {
      "cell_type": "code",
      "execution_count": null,
      "id": "a16b75e9",
      "metadata": {
        "id": "a16b75e9",
        "outputId": "642c1761-9b25-4cf3-b14b-00307777d8fb"
      },
      "outputs": [
        {
          "name": "stdout",
          "output_type": "stream",
          "text": [
            "Found 5216 images belonging to 2 classes.\n",
            "Found 624 images belonging to 2 classes.\n",
            "Found 16 images belonging to 2 classes.\n"
          ]
        }
      ],
      "source": [
        "train_generator = train_datagen.flow_from_directory(\n",
        "    train,\n",
        "    target_size=image_size,\n",
        "    batch_size=batch_size,\n",
        "    class_mode=\"binary\")\n",
        "\n",
        "test_generator = test_datagen.flow_from_directory(\n",
        "    test,\n",
        "    target_size=image_size,\n",
        "    batch_size=batch_size,\n",
        "    class_mode=\"binary\")\n",
        "\n",
        "validation_generator = test_datagen.flow_from_directory(\n",
        "    val,\n",
        "    target_size=image_size,\n",
        "    batch_size=batch_size,\n",
        "    class_mode=\"binary\")"
      ]
    },
    {
      "cell_type": "code",
      "execution_count": null,
      "id": "02018bc1",
      "metadata": {
        "id": "02018bc1"
      },
      "outputs": [],
      "source": [
        "model=Sequential()\n",
        "model.add(Conv2D(30,(3,3),activation='relu',input_shape=(120,120,3)))\n",
        "model.add(MaxPooling2D(pool_size=(2,2)))\n",
        "model.add(Dropout(0.2))\n",
        "model.add(Conv2D(75,(3,3),activation='relu'))\n",
        "model.add(MaxPooling2D(pool_size=(2,2)))\n",
        "model.add(Dropout(0.2))\n",
        "model.add(Conv2D(120,(3,3),activation='relu'))\n",
        "model.add(MaxPooling2D(pool_size=(2,2)))\n",
        "model.add(Dropout(0.2))\n",
        "model.add(Flatten())\n",
        "model.add(Dense(220,activation='relu'))\n",
        "model.add(Dropout(0.2))\n",
        "model.add(Dense(1,activation='sigmoid'))\n",
        "model.compile(optimizer='rmsprop',loss='binary_crossentropy',metrics=['accuracy'])"
      ]
    },
    {
      "cell_type": "code",
      "execution_count": null,
      "id": "a0455c55",
      "metadata": {
        "id": "a0455c55",
        "outputId": "74f5cc49-6956-411b-c7e3-8c67553bb953"
      },
      "outputs": [
        {
          "name": "stdout",
          "output_type": "stream",
          "text": [
            "Model: \"sequential_1\"\n",
            "_________________________________________________________________\n",
            " Layer (type)                Output Shape              Param #   \n",
            "=================================================================\n",
            " conv2d_3 (Conv2D)           (None, 118, 118, 30)      840       \n",
            "                                                                 \n",
            " max_pooling2d_3 (MaxPooling  (None, 59, 59, 30)       0         \n",
            " 2D)                                                             \n",
            "                                                                 \n",
            " dropout_4 (Dropout)         (None, 59, 59, 30)        0         \n",
            "                                                                 \n",
            " conv2d_4 (Conv2D)           (None, 57, 57, 75)        20325     \n",
            "                                                                 \n",
            " max_pooling2d_4 (MaxPooling  (None, 28, 28, 75)       0         \n",
            " 2D)                                                             \n",
            "                                                                 \n",
            " dropout_5 (Dropout)         (None, 28, 28, 75)        0         \n",
            "                                                                 \n",
            " conv2d_5 (Conv2D)           (None, 26, 26, 120)       81120     \n",
            "                                                                 \n",
            " max_pooling2d_5 (MaxPooling  (None, 13, 13, 120)      0         \n",
            " 2D)                                                             \n",
            "                                                                 \n",
            " dropout_6 (Dropout)         (None, 13, 13, 120)       0         \n",
            "                                                                 \n",
            " flatten_1 (Flatten)         (None, 20280)             0         \n",
            "                                                                 \n",
            " dense_2 (Dense)             (None, 220)               4461820   \n",
            "                                                                 \n",
            " dropout_7 (Dropout)         (None, 220)               0         \n",
            "                                                                 \n",
            " dense_3 (Dense)             (None, 1)                 221       \n",
            "                                                                 \n",
            "=================================================================\n",
            "Total params: 4,564,326\n",
            "Trainable params: 4,564,326\n",
            "Non-trainable params: 0\n",
            "_________________________________________________________________\n"
          ]
        }
      ],
      "source": [
        "model.summary()"
      ]
    },
    {
      "cell_type": "code",
      "execution_count": null,
      "id": "1dac77a1",
      "metadata": {
        "id": "1dac77a1",
        "outputId": "45842508-ad85-49c6-88d7-bf3be1c9ede7"
      },
      "outputs": [
        {
          "name": "stderr",
          "output_type": "stream",
          "text": [
            "C:\\Users\\ADMIN\\AppData\\Local\\Temp/ipykernel_10888/2356288912.py:1: UserWarning: `Model.fit_generator` is deprecated and will be removed in a future version. Please use `Model.fit`, which supports generators.\n",
            "  model.fit_generator(train_generator,\n"
          ]
        },
        {
          "name": "stdout",
          "output_type": "stream",
          "text": [
            "Epoch 1/20\n",
            "347/347 [==============================] - 196s 563ms/step - loss: 0.3883 - accuracy: 0.8210 - val_loss: 0.4453 - val_accuracy: 0.7545\n",
            "Epoch 2/20\n",
            "347/347 [==============================] - 184s 532ms/step - loss: 0.3212 - accuracy: 0.8716 - val_loss: 0.3977 - val_accuracy: 0.8130\n",
            "Epoch 3/20\n",
            "347/347 [==============================] - 172s 496ms/step - loss: 0.2765 - accuracy: 0.8916 - val_loss: 0.3647 - val_accuracy: 0.8585\n",
            "Epoch 4/20\n",
            "347/347 [==============================] - 174s 503ms/step - loss: 0.2433 - accuracy: 0.9067 - val_loss: 0.8432 - val_accuracy: 0.7057\n",
            "Epoch 5/20\n",
            "347/347 [==============================] - 180s 519ms/step - loss: 0.2475 - accuracy: 0.9062 - val_loss: 0.4435 - val_accuracy: 0.7984\n",
            "Epoch 6/20\n",
            "347/347 [==============================] - 190s 547ms/step - loss: 0.2351 - accuracy: 0.9152 - val_loss: 0.8153 - val_accuracy: 0.7561\n",
            "Epoch 7/20\n",
            "347/347 [==============================] - 225s 649ms/step - loss: 0.2196 - accuracy: 0.9192 - val_loss: 0.4934 - val_accuracy: 0.7919\n",
            "Epoch 8/20\n",
            "347/347 [==============================] - 228s 657ms/step - loss: 0.2122 - accuracy: 0.9266 - val_loss: 0.4449 - val_accuracy: 0.8504\n",
            "Epoch 9/20\n",
            "347/347 [==============================] - 205s 590ms/step - loss: 0.2066 - accuracy: 0.9216 - val_loss: 0.5753 - val_accuracy: 0.8146\n",
            "Epoch 10/20\n",
            "347/347 [==============================] - 170s 489ms/step - loss: 0.1916 - accuracy: 0.9308 - val_loss: 1.2541 - val_accuracy: 0.7285\n",
            "Epoch 11/20\n",
            "347/347 [==============================] - 168s 485ms/step - loss: 0.2127 - accuracy: 0.9254 - val_loss: 0.8664 - val_accuracy: 0.7220\n",
            "Epoch 12/20\n",
            "347/347 [==============================] - 171s 493ms/step - loss: 0.2545 - accuracy: 0.9248 - val_loss: 0.5068 - val_accuracy: 0.7724\n",
            "Epoch 13/20\n",
            "347/347 [==============================] - 170s 489ms/step - loss: 0.2028 - accuracy: 0.9325 - val_loss: 1.2537 - val_accuracy: 0.7154\n",
            "Epoch 14/20\n",
            "347/347 [==============================] - 170s 490ms/step - loss: 0.2105 - accuracy: 0.9267 - val_loss: 1.1652 - val_accuracy: 0.6764\n",
            "Epoch 15/20\n",
            "347/347 [==============================] - 171s 492ms/step - loss: 0.2078 - accuracy: 0.9344 - val_loss: 0.7073 - val_accuracy: 0.7593\n",
            "Epoch 16/20\n",
            "347/347 [==============================] - 170s 490ms/step - loss: 0.2030 - accuracy: 0.9300 - val_loss: 0.4736 - val_accuracy: 0.7675\n",
            "Epoch 17/20\n",
            "347/347 [==============================] - 945s 3s/step - loss: 0.1977 - accuracy: 0.9304 - val_loss: 0.8708 - val_accuracy: 0.7431\n",
            "Epoch 18/20\n",
            "347/347 [==============================] - 166s 479ms/step - loss: 0.1975 - accuracy: 0.9316 - val_loss: 0.4281 - val_accuracy: 0.7805\n",
            "Epoch 19/20\n",
            "347/347 [==============================] - 189s 544ms/step - loss: 0.2307 - accuracy: 0.9248 - val_loss: 0.4338 - val_accuracy: 0.7789\n",
            "Epoch 20/20\n",
            "347/347 [==============================] - 179s 516ms/step - loss: 0.2072 - accuracy: 0.9323 - val_loss: 0.3967 - val_accuracy: 0.8016\n"
          ]
        },
        {
          "data": {
            "text/plain": [
              "<keras.callbacks.History at 0x286a4ea0310>"
            ]
          },
          "execution_count": 18,
          "metadata": {},
          "output_type": "execute_result"
        }
      ],
      "source": [
        "model.fit_generator(train_generator,\n",
        "                   steps_per_epoch=5216//15,\n",
        "                   epochs=20,\n",
        "                   verbose=1,\n",
        "                   validation_data=test_generator,\n",
        "                   validation_steps=624//15)"
      ]
    },
    {
      "cell_type": "code",
      "execution_count": null,
      "id": "00d8df6b",
      "metadata": {
        "id": "00d8df6b"
      },
      "outputs": [],
      "source": [
        ""
      ]
    }
  ],
  "metadata": {
    "kernelspec": {
      "display_name": "Python 3 (ipykernel)",
      "language": "python",
      "name": "python3"
    },
    "language_info": {
      "codemirror_mode": {
        "name": "ipython",
        "version": 3
      },
      "file_extension": ".py",
      "mimetype": "text/x-python",
      "name": "python",
      "nbconvert_exporter": "python",
      "pygments_lexer": "ipython3",
      "version": "3.9.7"
    },
    "colab": {
      "name": "Pneumonia detection.ipynb",
      "provenance": [],
      "include_colab_link": true
    }
  },
  "nbformat": 4,
  "nbformat_minor": 5
}