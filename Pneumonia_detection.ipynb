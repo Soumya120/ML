{
  "cells": [
    {
      "cell_type": "markdown",
      "metadata": {
        "id": "view-in-github",
        "colab_type": "text"
      },
      "source": [
        "<a href=\"https://colab.research.google.com/github/Soumya120/ML-Projects/blob/main/Pneumonia_detection.ipynb\" target=\"_parent\"><img src=\"https://colab.research.google.com/assets/colab-badge.svg\" alt=\"Open In Colab\"/></a>"
      ]
    },
    {
      "cell_type": "code",
      "execution_count": null,
      "id": "27f21162",
      "metadata": {
        "id": "27f21162"
      },
      "outputs": [],
      "source": [
        "from tensorflow.keras.preprocessing.image import ImageDataGenerator, load_img\n",
        "from tensorflow.keras.models import Sequential\n",
        "from tensorflow.keras.layers import Conv2D, MaxPooling2D\n",
        "from tensorflow.keras.layers import Dropout, Flatten, Dense\n",
        "import os\n",
        "import numpy as np\n",
        "import pandas as pd"
      ]
    },
    {
      "cell_type": "code",
      "execution_count": null,
      "id": "822e5395",
      "metadata": {
        "id": "822e5395"
      },
      "outputs": [],
      "source": [
        "train = r\"C:\\Users\\ADMIN\\Desktop\\Internship project\\chest_xray/train\"\n",
        "test = r\"C:\\Users\\ADMIN\\Desktop\\Internship project\\chest_xray/test\"\n",
        "val = r\"C:\\Users\\ADMIN\\Desktop\\Internship project\\chest_xray/val\""
      ]
    },
    {
      "cell_type": "code",
      "execution_count": null,
      "id": "53d9a9a1",
      "metadata": {
        "id": "53d9a9a1"
      },
      "outputs": [],
      "source": [
        "batch_size=15\n",
        "image_size=(120,120)"
      ]
    },
    {
      "cell_type": "code",
      "execution_count": null,
      "id": "5c7fb071",
      "metadata": {
        "id": "5c7fb071"
      },
      "outputs": [],
      "source": [
        "train_datagen= ImageDataGenerator(rotation_range=15,\n",
        "                                 width_shift_range=0.2,\n",
        "                                 height_shift_range=0.2,\n",
        "                                 horizontal_flip=True,\n",
        "                                 rescale=1./255) \n",
        "\n",
        "test_datagen = ImageDataGenerator(rescale=1./255)"
      ]
    },
    {
      "cell_type": "code",
      "execution_count": null,
      "id": "a16b75e9",
      "metadata": {
        "id": "a16b75e9",
        "outputId": "2cafc17c-d0ca-4b95-9ac7-73434360c90a"
      },
      "outputs": [
        {
          "name": "stdout",
          "output_type": "stream",
          "text": [
            "Found 5216 images belonging to 2 classes.\n",
            "Found 624 images belonging to 2 classes.\n",
            "Found 16 images belonging to 2 classes.\n"
          ]
        }
      ],
      "source": [
        "train_generator = train_datagen.flow_from_directory(\n",
        "    train,\n",
        "    target_size=image_size,\n",
        "    batch_size=batch_size,\n",
        "    class_mode=\"binary\")\n",
        "\n",
        "test_generator = test_datagen.flow_from_directory(\n",
        "    test,\n",
        "    target_size=image_size,\n",
        "    batch_size=batch_size,\n",
        "    class_mode=\"binary\")\n",
        "\n",
        "validation_generator = test_datagen.flow_from_directory(\n",
        "    val,\n",
        "    target_size=image_size,\n",
        "    batch_size=batch_size,\n",
        "    class_mode=\"binary\")"
      ]
    },
    {
      "cell_type": "code",
      "execution_count": null,
      "id": "02018bc1",
      "metadata": {
        "id": "02018bc1"
      },
      "outputs": [],
      "source": [
        "model=Sequential()\n",
        "model.add(Conv2D(30,(3,3),activation='relu',input_shape=(120,120,3)))\n",
        "model.add(MaxPooling2D(pool_size=(2,2)))\n",
        "model.add(Dropout(0.2))\n",
        "model.add(Conv2D(75,(3,3),activation='relu'))\n",
        "model.add(MaxPooling2D(pool_size=(2,2)))\n",
        "model.add(Dropout(0.2))\n",
        "model.add(Conv2D(120,(3,3),activation='relu'))\n",
        "model.add(MaxPooling2D(pool_size=(2,2)))\n",
        "model.add(Dropout(0.2))\n",
        "model.add(Flatten())\n",
        "model.add(Dense(220,activation='relu'))\n",
        "model.add(Dropout(0.2))\n",
        "model.add(Dense(1,activation='sigmoid'))\n",
        "model.compile(optimizer='rmsprop',loss='binary_crossentropy',metrics=['accuracy'])"
      ]
    },
    {
      "cell_type": "code",
      "execution_count": null,
      "id": "a0455c55",
      "metadata": {
        "id": "a0455c55",
        "outputId": "0993c20a-eba1-4d23-f8eb-20187d417917"
      },
      "outputs": [
        {
          "name": "stdout",
          "output_type": "stream",
          "text": [
            "Model: \"sequential\"\n",
            "_________________________________________________________________\n",
            " Layer (type)                Output Shape              Param #   \n",
            "=================================================================\n",
            " conv2d (Conv2D)             (None, 118, 118, 30)      840       \n",
            "                                                                 \n",
            " max_pooling2d (MaxPooling2D  (None, 59, 59, 30)       0         \n",
            " )                                                               \n",
            "                                                                 \n",
            " dropout (Dropout)           (None, 59, 59, 30)        0         \n",
            "                                                                 \n",
            " conv2d_1 (Conv2D)           (None, 57, 57, 75)        20325     \n",
            "                                                                 \n",
            " max_pooling2d_1 (MaxPooling  (None, 28, 28, 75)       0         \n",
            " 2D)                                                             \n",
            "                                                                 \n",
            " dropout_1 (Dropout)         (None, 28, 28, 75)        0         \n",
            "                                                                 \n",
            " conv2d_2 (Conv2D)           (None, 26, 26, 120)       81120     \n",
            "                                                                 \n",
            " max_pooling2d_2 (MaxPooling  (None, 13, 13, 120)      0         \n",
            " 2D)                                                             \n",
            "                                                                 \n",
            " dropout_2 (Dropout)         (None, 13, 13, 120)       0         \n",
            "                                                                 \n",
            " flatten (Flatten)           (None, 20280)             0         \n",
            "                                                                 \n",
            " dense (Dense)               (None, 220)               4461820   \n",
            "                                                                 \n",
            " dropout_3 (Dropout)         (None, 220)               0         \n",
            "                                                                 \n",
            " dense_1 (Dense)             (None, 1)                 221       \n",
            "                                                                 \n",
            "=================================================================\n",
            "Total params: 4,564,326\n",
            "Trainable params: 4,564,326\n",
            "Non-trainable params: 0\n",
            "_________________________________________________________________\n"
          ]
        }
      ],
      "source": [
        "model.summary()"
      ]
    },
    {
      "cell_type": "code",
      "execution_count": null,
      "id": "1dac77a1",
      "metadata": {
        "id": "1dac77a1",
        "outputId": "c340de05-625d-4fc8-ddb8-751021a9b884"
      },
      "outputs": [
        {
          "name": "stderr",
          "output_type": "stream",
          "text": [
            "C:\\Users\\ADMIN\\AppData\\Local\\Temp/ipykernel_15516/2356288912.py:1: UserWarning: `Model.fit_generator` is deprecated and will be removed in a future version. Please use `Model.fit`, which supports generators.\n",
            "  model.fit_generator(train_generator,\n"
          ]
        },
        {
          "name": "stdout",
          "output_type": "stream",
          "text": [
            "Epoch 1/20\n",
            "347/347 [==============================] - 257s 737ms/step - loss: 0.5617 - accuracy: 0.7543 - val_loss: 0.5654 - val_accuracy: 0.6569\n",
            "Epoch 2/20\n",
            "347/347 [==============================] - 207s 595ms/step - loss: 0.4098 - accuracy: 0.8191 - val_loss: 0.4716 - val_accuracy: 0.7382\n",
            "Epoch 3/20\n",
            "347/347 [==============================] - 204s 587ms/step - loss: 0.3352 - accuracy: 0.8641 - val_loss: 0.5970 - val_accuracy: 0.7285\n",
            "Epoch 4/20\n",
            "347/347 [==============================] - 203s 583ms/step - loss: 0.2829 - accuracy: 0.8850 - val_loss: 0.4747 - val_accuracy: 0.8098\n",
            "Epoch 5/20\n",
            "347/347 [==============================] - 219s 631ms/step - loss: 0.2468 - accuracy: 0.9046 - val_loss: 0.9639 - val_accuracy: 0.6780\n",
            "Epoch 6/20\n",
            "347/347 [==============================] - 180s 520ms/step - loss: 0.2501 - accuracy: 0.9106 - val_loss: 0.7019 - val_accuracy: 0.7398\n",
            "Epoch 7/20\n",
            "347/347 [==============================] - 178s 513ms/step - loss: 0.2318 - accuracy: 0.9131 - val_loss: 0.4888 - val_accuracy: 0.7821\n",
            "Epoch 8/20\n",
            "347/347 [==============================] - 174s 502ms/step - loss: 0.2190 - accuracy: 0.9258 - val_loss: 0.4093 - val_accuracy: 0.8293\n",
            "Epoch 9/20\n",
            "347/347 [==============================] - 172s 497ms/step - loss: 0.2122 - accuracy: 0.9252 - val_loss: 0.4307 - val_accuracy: 0.8163\n",
            "Epoch 10/20\n",
            "347/347 [==============================] - 173s 498ms/step - loss: 0.1963 - accuracy: 0.9314 - val_loss: 0.4898 - val_accuracy: 0.8016\n",
            "Epoch 11/20\n",
            "347/347 [==============================] - 183s 527ms/step - loss: 0.1990 - accuracy: 0.9291 - val_loss: 0.4389 - val_accuracy: 0.7886\n",
            "Epoch 12/20\n",
            "347/347 [==============================] - 186s 537ms/step - loss: 0.2086 - accuracy: 0.9258 - val_loss: 0.5210 - val_accuracy: 0.8390\n",
            "Epoch 13/20\n",
            "347/347 [==============================] - 183s 526ms/step - loss: 0.1974 - accuracy: 0.9302 - val_loss: 2.8974 - val_accuracy: 0.6748\n",
            "Epoch 14/20\n",
            "347/347 [==============================] - 175s 504ms/step - loss: 0.1922 - accuracy: 0.9291 - val_loss: 0.5907 - val_accuracy: 0.7756\n",
            "Epoch 15/20\n",
            "347/347 [==============================] - 199s 573ms/step - loss: 0.2096 - accuracy: 0.9266 - val_loss: 0.4703 - val_accuracy: 0.7577\n",
            "Epoch 16/20\n",
            "347/347 [==============================] - 196s 566ms/step - loss: 0.1858 - accuracy: 0.9360 - val_loss: 1.1235 - val_accuracy: 0.6943\n",
            "Epoch 17/20\n",
            "347/347 [==============================] - 245s 706ms/step - loss: 0.1954 - accuracy: 0.9264 - val_loss: 0.5102 - val_accuracy: 0.7675\n",
            "Epoch 18/20\n",
            "347/347 [==============================] - 235s 676ms/step - loss: 0.1932 - accuracy: 0.9364 - val_loss: 0.5389 - val_accuracy: 0.7821\n",
            "Epoch 19/20\n",
            "347/347 [==============================] - 235s 676ms/step - loss: 0.1974 - accuracy: 0.9342 - val_loss: 0.9634 - val_accuracy: 0.7301\n",
            "Epoch 20/20\n",
            "347/347 [==============================] - 234s 674ms/step - loss: 0.2003 - accuracy: 0.9333 - val_loss: 0.6556 - val_accuracy: 0.7236\n"
          ]
        },
        {
          "data": {
            "text/plain": [
              "<keras.callbacks.History at 0x196113fed30>"
            ]
          },
          "execution_count": 10,
          "metadata": {},
          "output_type": "execute_result"
        }
      ],
      "source": [
        "model.fit_generator(train_generator,\n",
        "                   steps_per_epoch=5216//15,\n",
        "                   epochs=20,\n",
        "                   verbose=1,\n",
        "                   validation_data=test_generator,\n",
        "                   validation_steps=624//15)"
      ]
    },
    {
      "cell_type": "code",
      "execution_count": null,
      "id": "00d8df6b",
      "metadata": {
        "id": "00d8df6b"
      },
      "outputs": [],
      "source": [
        "model.save('pneumonia.h5')"
      ]
    },
    {
      "cell_type": "code",
      "execution_count": null,
      "id": "9c7abba2",
      "metadata": {
        "id": "9c7abba2"
      },
      "outputs": [],
      "source": [
        "from keras.models import load_model\n",
        "from keras.preprocessing import image\n",
        "import numpy as np"
      ]
    },
    {
      "cell_type": "code",
      "execution_count": null,
      "id": "4308e048",
      "metadata": {
        "id": "4308e048"
      },
      "outputs": [],
      "source": [
        "model = load_model('pneumonia.h5')"
      ]
    },
    {
      "cell_type": "code",
      "execution_count": null,
      "id": "81c9c91b",
      "metadata": {
        "id": "81c9c91b",
        "outputId": "5724b8c7-b125-4dbc-f0d6-2680ee35c178"
      },
      "outputs": [
        {
          "name": "stdout",
          "output_type": "stream",
          "text": [
            "[[0.9897635]]\n",
            "[[1]]\n"
          ]
        }
      ],
      "source": [
        "from skimage.transform import resize\n",
        "import cv2\n",
        "def detect(frame):\n",
        "    try:\n",
        "        img = resize(frame,(120,120))\n",
        "        img = np.expand_dims(img,axis=0)\n",
        "        prediction = model.predict(img)\n",
        "        print(prediction)\n",
        "        prediction = (model.predict(img) > 0.5).astype(\"int32\")\n",
        "        print(prediction)\n",
        "    except AttributeError:\n",
        "        print(\"Shape not found\")\n",
        "frame = cv2.imread(r\"C:\\Users\\ADMIN\\Desktop\\Internship project\\flask\\uploads/test.jpg\")\n",
        "data = detect(frame)"
      ]
    }
  ],
  "metadata": {
    "kernelspec": {
      "display_name": "Python 3 (ipykernel)",
      "language": "python",
      "name": "python3"
    },
    "language_info": {
      "codemirror_mode": {
        "name": "ipython",
        "version": 3
      },
      "file_extension": ".py",
      "mimetype": "text/x-python",
      "name": "python",
      "nbconvert_exporter": "python",
      "pygments_lexer": "ipython3",
      "version": "3.9.7"
    },
    "colab": {
      "name": "Pneumonia detection.ipynb",
      "provenance": [],
      "include_colab_link": true
    }
  },
  "nbformat": 4,
  "nbformat_minor": 5
}